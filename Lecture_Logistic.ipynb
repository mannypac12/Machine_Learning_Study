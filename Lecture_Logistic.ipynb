{
 "cells": [
  {
   "cell_type": "code",
   "execution_count": 1,
   "metadata": {},
   "outputs": [],
   "source": [
    "import tensorflow as tf"
   ]
  },
  {
   "cell_type": "code",
   "execution_count": 3,
   "metadata": {},
   "outputs": [],
   "source": [
    "x_data = [[1, 2], [2, 3], [3, 1], [4, 3], [5, 3], [6, 2]]\n",
    "y_data = [[0], [0], [0], [1], [1], [1]]"
   ]
  },
  {
   "cell_type": "code",
   "execution_count": 4,
   "metadata": {},
   "outputs": [],
   "source": [
    "X = tf.placeholder(tf.float32, shape = [None, 2])\n",
    "Y = tf.placeholder(tf.float32, shape = [None, 1])\n",
    "W = tf.Variable(tf.random_normal([2,1], name='weight'))\n",
    "b = tf.Variable(tf.random_normal([1], name='bias'))"
   ]
  },
  {
   "cell_type": "code",
   "execution_count": 6,
   "metadata": {},
   "outputs": [],
   "source": [
    "hypothesis = tf.sigmoid(tf.matmul(X, W) + b)\n",
    "\n",
    "cost = -tf.reduce_mean(Y * tf.log(hypothesis) + (1 - Y) *\n",
    "                      tf.log(1 - hypothesis))"
   ]
  },
  {
   "cell_type": "code",
   "execution_count": 8,
   "metadata": {},
   "outputs": [],
   "source": [
    "train = tf.train.GradientDescentOptimizer(learning_rate=0.01).minimize(cost)\n",
    "predicted = tf.cast(hypothesis > 0.5, dtype = tf.float32)\n",
    "accuracy = tf.reduce_mean(tf.cast(tf.equal(predicted, Y), dtype=tf.float32))"
   ]
  },
  {
   "cell_type": "markdown",
   "metadata": {},
   "source": [
    "# Train the model"
   ]
  },
  {
   "cell_type": "code",
   "execution_count": 11,
   "metadata": {},
   "outputs": [
    {
     "name": "stdout",
     "output_type": "stream",
     "text": [
      "0 1.3358084\n",
      "200 0.41861734\n",
      "400 0.37653902\n",
      "600 0.35252818\n",
      "800 0.33612037\n",
      "1000 0.32336065\n",
      "1200 0.31257474\n",
      "1400 0.302986\n",
      "1600 0.29420605\n",
      "1800 0.2860274\n",
      "2000 0.2783316\n",
      "2200 0.27104607\n",
      "2400 0.264123\n",
      "2600 0.25752825\n",
      "2800 0.2512357\n",
      "3000 0.2452241\n",
      "3200 0.23947524\n",
      "3400 0.23397309\n",
      "3600 0.22870313\n",
      "3800 0.22365223\n",
      "4000 0.2188081\n",
      "4200 0.21415932\n",
      "4400 0.20969538\n",
      "4600 0.20540623\n",
      "4800 0.2012826\n",
      "5000 0.19731586\n",
      "5200 0.19349773\n",
      "5400 0.1898206\n",
      "5600 0.18627734\n",
      "5800 0.18286113\n",
      "6000 0.17956574\n",
      "6200 0.17638506\n",
      "6400 0.17331356\n",
      "6600 0.17034602\n",
      "6800 0.16747744\n",
      "7000 0.16470322\n",
      "7200 0.16201885\n",
      "7400 0.1594203\n",
      "7600 0.15690356\n",
      "7800 0.15446506\n",
      "8000 0.15210128\n",
      "8200 0.14980896\n",
      "8400 0.14758493\n",
      "8600 0.14542632\n",
      "8800 0.14333029\n",
      "9000 0.14129432\n",
      "9200 0.13931592\n",
      "9400 0.13739266\n",
      "9600 0.13552234\n",
      "9800 0.13370286\n",
      "10000 0.13193215\n",
      "\n",
      "Hypothesis:  [[0.02371421]\n",
      " [0.14807102]\n",
      " [0.269236  ]\n",
      " [0.79816866]\n",
      " [0.9496568 ]\n",
      " [0.98360205]] \n",
      "Correct:  [[0.]\n",
      " [0.]\n",
      " [0.]\n",
      " [1.]\n",
      " [1.]\n",
      " [1.]] \n",
      "Accuracy:  [[0.]\n",
      " [0.]\n",
      " [0.]\n",
      " [1.]\n",
      " [1.]\n",
      " [1.]]\n"
     ]
    }
   ],
   "source": [
    "with tf.Session() as sess: \n",
    "    sess.run(tf.global_variables_initializer())\n",
    "    \n",
    "    for step in range(10001): \n",
    "        cost_val, _ = sess.run([cost, train], feed_dict = {X: x_data, Y: y_data})\n",
    "        if step % 200 == 0:\n",
    "            print(step, cost_val)\n",
    "            \n",
    "    h,c,a=sess.run([hypothesis, predicted, accuracy],\n",
    "                  feed_dict = {X: x_data, Y: y_data})\n",
    "    \n",
    "    print(\"\\nHypothesis: \", h, \"\\nCorrect: \", c, \"\\nAccuracy: \", c)"
   ]
  }
 ],
 "metadata": {
  "kernelspec": {
   "display_name": "Python 3",
   "language": "python",
   "name": "python3"
  },
  "language_info": {
   "codemirror_mode": {
    "name": "ipython",
    "version": 3
   },
   "file_extension": ".py",
   "mimetype": "text/x-python",
   "name": "python",
   "nbconvert_exporter": "python",
   "pygments_lexer": "ipython3",
   "version": "3.6.5"
  }
 },
 "nbformat": 4,
 "nbformat_minor": 2
}
